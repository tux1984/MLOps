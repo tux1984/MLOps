{
 "cells": [
  {
   "cell_type": "code",
   "execution_count": null,
   "id": "6758afb9",
   "metadata": {
    "vscode": {
     "languageId": "plaintext"
    }
   },
   "outputs": [],
   "source": [
    "import os\n",
    "import pandas as pd\n",
    "import numpy as np\n",
    "import mlflow\n",
    "import mlflow.sklearn\n",
    "import psycopg2\n",
    "from sqlalchemy import create_engine\n",
    "from sklearn.model_selection import train_test_split\n",
    "from sklearn.linear_model import LinearRegression\n",
    "from sklearn.ensemble import RandomForestRegressor\n",
    "from sklearn.metrics import mean_squared_error, mean_absolute_error, r2_score\n"
   ]
  },
  {
   "cell_type": "code",
   "execution_count": null,
   "id": "ff2a9d40",
   "metadata": {
    "vscode": {
     "languageId": "plaintext"
    }
   },
   "outputs": [],
   "source": [
    "# Parámetros desde .env\n",
    "POSTGRES_USER = \"mlflow_user\"\n",
    "POSTGRES_PASSWORD = \"mlflow_pass\"\n",
    "POSTGRES_DB = \"mlflowdb\"\n",
    "POSTGRES_HOST = \"postgres\"  # nombre del servicio Docker\n",
    "POSTGRES_PORT = \"5432\"\n",
    "\n",
    "# URL de conexión para SQLAlchemy\n",
    "db_uri = f\"postgresql://{POSTGRES_USER}:{POSTGRES_PASSWORD}@{POSTGRES_HOST}:{POSTGRES_PORT}/{POSTGRES_DB}\"\n",
    "\n",
    "engine = create_engine(db_uri)\n",
    "\n",
    "# Cargar datos desde tabla\n",
    "df = pd.read_sql(\"SELECT * FROM credit_data\", engine)\n",
    "\n",
    "df.head()\n"
   ]
  },
  {
   "cell_type": "code",
   "execution_count": null,
   "id": "f3c39fc5",
   "metadata": {
    "vscode": {
     "languageId": "plaintext"
    }
   },
   "outputs": [],
   "source": [
    "# One-hot encoding simple para education_level\n",
    "df = pd.get_dummies(df, columns=[\"education_level\"], drop_first=True)\n",
    "\n",
    "# Separar features y target\n",
    "X = df.drop(columns=[\"id\", \"credit_score\"])\n",
    "y = df[\"credit_score\"]\n",
    "\n",
    "# Dividir datos\n",
    "X_train, X_temp, y_train, y_temp = train_test_split(X, y, test_size=0.3, random_state=42)\n",
    "X_val, X_test, y_val, y_test = train_test_split(X_temp, y_temp, test_size=0.5, random_state=42)\n"
   ]
  },
  {
   "cell_type": "code",
   "execution_count": null,
   "id": "45a9bdb0",
   "metadata": {
    "vscode": {
     "languageId": "plaintext"
    }
   },
   "outputs": [],
   "source": [
    "def eval_model(model, X_val, y_val):\n",
    "    y_pred = model.predict(X_val)\n",
    "    return {\n",
    "        \"mae\": mean_absolute_error(y_val, y_pred),\n",
    "        \"mse\": mean_squared_error(y_val, y_pred),\n",
    "        \"r2\": r2_score(y_val, y_pred)\n",
    "    }\n",
    "\n",
    "def train_model(model_name, model_class, params_grid):\n",
    "    for params in params_grid:\n",
    "        with mlflow.start_run(run_name=f\"{model_name}_{params}\"):\n",
    "            model = model_class(**params)\n",
    "            model.fit(X_train, y_train)\n",
    "\n",
    "            metrics = eval_model(model, X_val, y_val)\n",
    "\n",
    "            # Log params and metrics\n",
    "            mlflow.log_params(params)\n",
    "            mlflow.log_metrics(metrics)\n",
    "\n",
    "            # Log model artifact\n",
    "            mlflow.sklearn.log_model(model, \"model\", registered_model_name=\"CreditScoreModel\")\n",
    "\n",
    "            print(f\"Run {mlflow.active_run().info.run_id} - {model_name} - {params} - R2: {metrics['r2']:.3f}\")\n"
   ]
  },
  {
   "cell_type": "code",
   "execution_count": null,
   "id": "82e06ba6",
   "metadata": {
    "vscode": {
     "languageId": "plaintext"
    }
   },
   "outputs": [],
   "source": [
    "# Configuración de MLflow (ya viene de variables de entorno en el contenedor)\n",
    "mlflow.set_tracking_uri(\"http://mlflow:5000\")\n",
    "mlflow.set_experiment(\"CreditScorePrediction\")\n",
    "\n",
    "# Rejilla de hiperparámetros (mínimo 20 combinaciones)\n",
    "rf_params = [\n",
    "    {\"n_estimators\": n, \"max_depth\": d}\n",
    "    for n in [10, 50, 100, 200]\n",
    "    for d in [3, 5, 10, None]\n",
    "]\n",
    "\n",
    "train_model(\"RandomForest\", RandomForestRegressor, rf_params[:20])\n"
   ]
  },
  {
   "cell_type": "code",
   "execution_count": null,
   "id": "2c3a4d0a",
   "metadata": {
    "vscode": {
     "languageId": "plaintext"
    }
   },
   "outputs": [],
   "source": [
    "from mlflow.tracking import MlflowClient\n",
    "\n",
    "client = MlflowClient()\n",
    "runs = client.search_runs(experiment_ids=[\"1\"], order_by=[\"metrics.r2 DESC\"])\n",
    "\n",
    "best_run = runs[0]\n",
    "print(f\"Best run ID: {best_run.info.run_id}\")\n",
    "print(best_run.data.metrics)\n"
   ]
  }
 ],
 "metadata": {
  "language_info": {
   "name": "python"
  }
 },
 "nbformat": 4,
 "nbformat_minor": 5
}
